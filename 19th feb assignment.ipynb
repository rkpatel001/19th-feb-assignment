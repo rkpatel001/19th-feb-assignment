{
 "cells": [
  {
   "cell_type": "code",
   "execution_count": 2,
   "id": "f8ba008c-6e41-4011-bbb6-9d74ab816389",
   "metadata": {},
   "outputs": [],
   "source": [
    "# Q1. What is Flask Framework? What are the advantages of Flask Framework?"
   ]
  },
  {
   "cell_type": "code",
   "execution_count": 1,
   "id": "f055b38a-8660-4e34-8686-8e8fcb84c81b",
   "metadata": {},
   "outputs": [
    {
     "data": {
      "text/plain": [
       "'Flask is micro web developing framwork written in python thats provides easy way to build web applicaton \\n   Flexible\\n   Easy to negotiate\\n   Lightweight. ...\\n   Documentation. ...\\n   Not a lot of tools  '"
      ]
     },
     "execution_count": 1,
     "metadata": {},
     "output_type": "execute_result"
    }
   ],
   "source": [
    "'''Flask is micro web developing framwork written in python thats provides easy way to build web applicaton \n",
    "   Flexible\n",
    "   Easy to negotiate\n",
    "   Lightweight. ...\n",
    "   Documentation. ...\n",
    "   Not a lot of tools  '''"
   ]
  },
  {
   "cell_type": "code",
   "execution_count": null,
   "id": "94f1df54-ff7d-484e-82cb-a81fd484a92e",
   "metadata": {},
   "outputs": [],
   "source": []
  },
  {
   "cell_type": "code",
   "execution_count": null,
   "id": "cc9f1cc7-8e97-4713-a5b5-bf0b56edff72",
   "metadata": {},
   "outputs": [],
   "source": [
    "# Q2. Create a simple Flask application to display ‘Hello World!!’. Attach the screenshot of the output in\n",
    "# Jupyter Notebook.\n",
    "\n",
    "from flask import Flask\n",
    "\n",
    "app  = Flask(__name__)\n",
    "\n",
    "@app.route(\"/\")\n",
    "def test1():\n",
    "    return \"Hello World\" \n",
    "\n",
    "if __name__==\"__main__\":\n",
    "    app.run(host=\"0.0.0.0\")\n",
    "    "
   ]
  },
  {
   "cell_type": "code",
   "execution_count": null,
   "id": "1cdb2dcf-2046-401b-82ba-8376d75dc3e6",
   "metadata": {},
   "outputs": [],
   "source": []
  },
  {
   "cell_type": "code",
   "execution_count": 3,
   "id": "d042f56f-d8d7-42aa-8756-3bd3e15ebe1d",
   "metadata": {},
   "outputs": [],
   "source": [
    "# Q3. What is App routing in Flask? Why do we use app routes?\n",
    "\n",
    "\n",
    "# App Routing means mapping the URLs to a specific function that will handle the logic for that URL"
   ]
  },
  {
   "cell_type": "code",
   "execution_count": null,
   "id": "d49e38bc-ecb0-48e8-a7b6-86902593feba",
   "metadata": {},
   "outputs": [],
   "source": []
  },
  {
   "cell_type": "code",
   "execution_count": null,
   "id": "e10f31d2-3c63-4d5b-9404-4024d965c7ba",
   "metadata": {},
   "outputs": [],
   "source": [
    "# Q4. Create a “/welcome” route to display the welcome message “Welcome to ABC Corporation” and a “/”\n",
    "# route to show the following details:\n",
    "\n",
    "\n",
    "\n",
    "from flask import Flask\n",
    "\n",
    "app  = Flask(__name__)\n",
    "\n",
    "@app.route(\"/welcome\")\n",
    "def test1():\n",
    "    return \"Hello World\" \n",
    "\n",
    "@app.route(\"/a\")\n",
    "def info():\n",
    "    return \"Company Name: ABC Corporation\"\n",
    "\"Location: India\"\n",
    "\"Contact Detail: 999-999-9999\"\n",
    "\n",
    "if __name__==\"__main__\":\n",
    "    app.run(host=\"0.0.0.0\")"
   ]
  },
  {
   "cell_type": "code",
   "execution_count": null,
   "id": "e61294b5-7b4c-4c33-b314-1354fda5eb5c",
   "metadata": {},
   "outputs": [],
   "source": []
  },
  {
   "cell_type": "code",
   "execution_count": null,
   "id": "76969694-67f6-4216-9984-6b2fb6ecace1",
   "metadata": {},
   "outputs": [],
   "source": [
    "# Q5. What function is used in Flask for URL Building? Write a Python code to demonstrate the working of the\n",
    "# url_for() function.\n",
    "\n",
    "# The url_for() function is used to build a URL to the specific function dynamically."
   ]
  },
  {
   "cell_type": "code",
   "execution_count": null,
   "id": "e80ade0c-cd8e-427a-ae6f-1a6f7babe155",
   "metadata": {},
   "outputs": [],
   "source": []
  }
 ],
 "metadata": {
  "kernelspec": {
   "display_name": "Python 3 (ipykernel)",
   "language": "python",
   "name": "python3"
  },
  "language_info": {
   "codemirror_mode": {
    "name": "ipython",
    "version": 3
   },
   "file_extension": ".py",
   "mimetype": "text/x-python",
   "name": "python",
   "nbconvert_exporter": "python",
   "pygments_lexer": "ipython3",
   "version": "3.10.8"
  }
 },
 "nbformat": 4,
 "nbformat_minor": 5
}
